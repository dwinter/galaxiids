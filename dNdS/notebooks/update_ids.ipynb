{
 "metadata": {
  "name": "update_ids"
 },
 "nbformat": 3,
 "nbformat_minor": 0,
 "worksheets": [
  {
   "cells": [
    {
     "cell_type": "code",
     "collapsed": false,
     "input": [
      "from Bio import SeqIO\n",
      "\n",
      "recs = SeqIO.parse(\"../seqs/dep_orfs.fasta\", \"fasta\")\n",
      "r = recs.next()"
     ],
     "language": "python",
     "metadata": {},
     "outputs": [],
     "prompt_number": 6
    },
    {
     "cell_type": "code",
     "collapsed": false,
     "input": [
      "def update_name(rec, sp):\n",
      "    \"\"\" \"\"\"\n",
      "    rec.description = rec.id = rec.name = rec.description.split()[0].replace(\"contig\", sp)\n",
      "    return(rec)\n",
      "\n",
      "update_name(r, \"brev\")\n",
      "\n"
     ],
     "language": "python",
     "metadata": {},
     "outputs": [
      {
       "output_type": "pyout",
       "prompt_number": 15,
       "text": [
        "SeqRecord(seq=Seq('ATGTCACATCAAACGGGAATACAAGCGGGTAATGATGTGAAAGATATCTTTGCT...tca', SingleLetterAlphabet()), id='brev09780', name='brev09780', description='brev09780', dbxrefs=[])"
       ]
      }
     ],
     "prompt_number": 15
    },
    {
     "cell_type": "code",
     "collapsed": false,
     "input": [
      "SeqIO.write( [update_name(r, \"dep\") for r in SeqIO.parse(\"../seqs/dep_orfs.fasta\", \"fasta\")], \"../seqs/dep_orfs.fasta\", \"fasta\")"
     ],
     "language": "python",
     "metadata": {},
     "outputs": [
      {
       "output_type": "pyout",
       "prompt_number": 38,
       "text": [
        "4413"
       ]
      }
     ],
     "prompt_number": 38
    },
    {
     "cell_type": "code",
     "collapsed": false,
     "input": [
      "SeqIO.write( [update_name(r, \"brev\") for r in SeqIO.parse(\"../seqs/brev_orfs.fasta\", \"fasta\")], \"../seqs/dep_orfs.fasta\", \"fasta\")"
     ],
     "language": "python",
     "metadata": {},
     "outputs": [
      {
       "output_type": "pyout",
       "prompt_number": 39,
       "text": [
        "8642"
       ]
      }
     ],
     "prompt_number": 39
    }
   ],
   "metadata": {}
  }
 ]
}