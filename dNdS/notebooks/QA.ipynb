{
 "metadata": {
  "name": "QA"
 },
 "nbformat": 3,
 "nbformat_minor": 0,
 "worksheets": [
  {
   "cells": [
    {
     "cell_type": "markdown",
     "metadata": {},
     "source": [
      "#QA for selection analyses\n"
     ]
    },
    {
     "cell_type": "code",
     "collapsed": false,
     "input": [
      "import pandas as pd\n"
     ],
     "language": "python",
     "metadata": {},
     "outputs": [],
     "prompt_number": 2
    },
    {
     "cell_type": "code",
     "collapsed": false,
     "input": [
      "selection_data = pd.read_csv(\"../results/selection_pandas.csv\")\n",
      "f, (ax1, ax2) = plt.subplots(2, 1, sharey=True, sharex=True)\n",
      "\n",
      "ax1.hist(selection_data[\"ka\"], color='red', bins=10)\n",
      "ax2.hist(selection_data[\"ks\"])\n",
      "\n",
      "\n"
     ],
     "language": "python",
     "metadata": {},
     "outputs": [
      {
       "output_type": "pyout",
       "prompt_number": 13,
       "text": [
        "(array([569, 337, 125,  52,  27,   9,  10,   0,   1,   2]),\n",
        " array([ 0.        ,  0.01292742,  0.02585483,  0.03878225,  0.05170967,\n",
        "        0.06463709,  0.0775645 ,  0.09049192,  0.10341934,  0.11634676,\n",
        "        0.12927417]),\n",
        " <a list of 10 Patch objects>)"
       ]
      },
      {
       "output_type": "display_data",
       "png": "[encoded data removed]"
      }
     ],
     "prompt_number": 13
    },
    {
     "cell_type": "code",
     "collapsed": false,
     "input": [
      "fig, (ax1, ax2) = plt.subplots(2, 1, sharex=True)\n",
      "ax1.scatter(selection_data[\"length\"],selection_data[\"omega\"] > 1, color='red')\n",
      "ax2.hist(selection_data[\"length\"])\n",
      "\n"
     ],
     "language": "python",
     "metadata": {},
     "outputs": [
      {
       "output_type": "pyout",
       "prompt_number": 31,
       "text": [
        "(array([353, 460, 149,  85,  39,  22,  13,   6,   4,   1]),\n",
        " array([   54. ,   197.1,   340.2,   483.3,   626.4,   769.5,   912.6,\n",
        "        1055.7,  1198.8,  1341.9,  1485. ]),\n",
        " <a list of 10 Patch objects>)"
       ]
      },
      {
       "output_type": "display_data",
       "png": "[encoded data removed]"
      }
     ],
     "prompt_number": 31
    },
    {
     "cell_type": "code",
     "collapsed": false,
     "input": [
      "import statsmodels.api as sm\n",
      "\n",
      "is_one = selection_data[\"omega\"] > 1\n",
      "mod = sm.GLM(is_one , selection_data[\"nreads\"], family=sm.families.Binomial())\n",
      "result = mod.fit()\n",
      "result.summary()\n"
     ],
     "language": "python",
     "metadata": {},
     "outputs": [
      {
       "html": [
        "<table class=\"simpletable\">\n",
        "<caption>Generalized Linear Model Regression Results</caption>\n",
        "<tr>\n",
        "  <th>Dep. Variable:</th>        <td>omega</td>      <th>  No. Observations:  </th>  <td>  1132</td> \n",
        "</tr>\n",
        "<tr>\n",
        "  <th>Model:</th>                 <td>GLM</td>       <th>  Df Residuals:      </th>  <td>  1131</td> \n",
        "</tr>\n",
        "<tr>\n",
        "  <th>Model Family:</th>       <td>Binomial</td>     <th>  Df Model:          </th>  <td>     0</td> \n",
        "</tr>\n",
        "<tr>\n",
        "  <th>Link Function:</th>        <td>logit</td>      <th>  Scale:             </th>    <td>1.0</td>  \n",
        "</tr>\n",
        "<tr>\n",
        "  <th>Method:</th>               <td>IRLS</td>       <th>  Log-Likelihood:    </th> <td> -264.21</td>\n",
        "</tr>\n",
        "<tr>\n",
        "  <th>Date:</th>           <td>Thu, 07 Feb 2013</td> <th>  Deviance:          </th> <td>  528.42</td>\n",
        "</tr>\n",
        "<tr>\n",
        "  <th>Time:</th>               <td>14:32:31</td>     <th>  Pearson chi2:      </th> <td>7.62e+05</td>\n",
        "</tr>\n",
        "<tr>\n",
        "  <th>No. Iterations:</th>         <td>9</td>        <th>                     </th>     <td> </td>   \n",
        "</tr>\n",
        "</table>\n",
        "<table class=\"simpletable\">\n",
        "<tr>\n",
        "     <td></td>       <th>coef</th>     <th>std err</th>      <th>t</th>      <th>P>|t|</th> <th>[95.0% Conf. Int.]</th> \n",
        "</tr>\n",
        "<tr>\n",
        "  <th>nreads</th> <td>   -0.0436</td> <td>    0.003</td> <td>  -14.776</td> <td> 0.000</td> <td>   -0.049    -0.038</td>\n",
        "</tr>\n",
        "</table>"
       ],
       "output_type": "pyout",
       "prompt_number": 33,
       "text": [
        "<class 'statsmodels.iolib.summary.Summary'>\n",
        "\"\"\"\n",
        "                 Generalized Linear Model Regression Results                  \n",
        "==============================================================================\n",
        "Dep. Variable:                  omega   No. Observations:                 1132\n",
        "Model:                            GLM   Df Residuals:                     1131\n",
        "Model Family:                Binomial   Df Model:                            0\n",
        "Link Function:                  logit   Scale:                             1.0\n",
        "Method:                          IRLS   Log-Likelihood:                -264.21\n",
        "Date:                Thu, 07 Feb 2013   Deviance:                       528.42\n",
        "Time:                        14:32:31   Pearson chi2:                 7.62e+05\n",
        "No. Iterations:                     9                                         \n",
        "==============================================================================\n",
        "                 coef    std err          t      P>|t|      [95.0% Conf. Int.]\n",
        "------------------------------------------------------------------------------\n",
        "nreads        -0.0436      0.003    -14.776      0.000        -0.049    -0.038\n",
        "==============================================================================\n",
        "\"\"\""
       ]
      }
     ],
     "prompt_number": 33
    },
    {
     "cell_type": "code",
     "collapsed": false,
     "input": [
      "from Bio import SeqIO\n",
      "\n",
      "\n",
      "\n",
      "brev_recs = SeqIO.index(\"../seqs/brev_ORFs.fasta\", \"fasta\")\n",
      "winners = selection_data[\"brev_id\"][selection_data[\"omega\"] > 1]\n",
      "\n",
      "out_recs = [brev_recs[\"contig{id:05d}\".format(id=i)] for i in winners]\n",
      "SeqIO.write(out_recs, \"../results/winners.fasta\", \"fasta\")"
     ],
     "language": "python",
     "metadata": {},
     "outputs": [
      {
       "output_type": "pyout",
       "prompt_number": 53,
       "text": [
        "38"
       ]
      }
     ],
     "prompt_number": 53
    }
   ],
   "metadata": {}
  }
 ]
}