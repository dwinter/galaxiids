{
 "metadata": {
  "name": ""
 },
 "nbformat": 3,
 "nbformat_minor": 0,
 "worksheets": [
  {
   "cells": [
    {
     "cell_type": "markdown",
     "metadata": {},
     "source": [
      "#Measuring selection across the transcriptome of a galaxiid fish\n",
      "\n",
      "##What's already been done / what's the plan\n",
      "\n",
      "We are starting off with two files, in `seqs/` which contain ORFs found in transcriptome runs from two closely related fish species. \n",
      "From these we will:\n",
      "\n",
      "+ Find putative orthologues using a recipricoal best-blast between the genomes\n",
      "+ Align orthologues to each other\n",
      "+ Calculate ka/ks rations for each gene\n",
      "+ Plot them out\n",
      "\n",
      "## Reciprocal best BLAST\n",
      "\n",
      "Notes \n",
      "\n",
      "+ `!` is a magic character in ipython, which lets you run shell commands\n",
      "+ all these commands are being run from within the `notebooks` directory, hence relative paths\n",
      "+ In all case a filename with `dep` refers to _Galaxias depriciceps_, `brev` to _G. brevipinnis_\n",
      "\n",
      "\n"
     ]
    },
    {
     "cell_type": "markdown",
     "metadata": {},
     "source": [
      "###Get the ORFs (from the annotation notebook)\n",
      "\n",
      "Note the orfinder IDs need cleanding up"
     ]
    },
    {
     "cell_type": "code",
     "collapsed": false,
     "input": [
      "from Bio import SeqIO\n",
      "\n",
      "def update_name(rec, sp):\n",
      "    \"\"\" \"\"\"\n",
      "    rec.description = rec.id = rec.name = rec.description.split()[0].replace(\"contig\", sp)\n",
      "    return(rec)"
     ],
     "language": "python",
     "metadata": {},
     "outputs": [],
     "prompt_number": 3
    },
    {
     "cell_type": "code",
     "collapsed": false,
     "input": [
      "SeqIO.write( [update_name(r, \"dep\") for r in SeqIO.parse(\"../../annotation/seqs/dep_orfs.fasta\", \"fasta\")], \"../seqs/dep_orfs.fasta\", \"fasta\")"
     ],
     "language": "python",
     "metadata": {},
     "outputs": [
      {
       "output_type": "pyout",
       "prompt_number": 65,
       "text": [
        "4435"
       ]
      }
     ],
     "prompt_number": 65
    },
    {
     "cell_type": "code",
     "collapsed": false,
     "input": [
      "SeqIO.write( [update_name(r, \"brev\") for r in SeqIO.parse(\"../../annotation/seqs/brev_orfs.fasta\", \"fasta\")], \"../seqs/brev_orfs.fasta\", \"fasta\")"
     ],
     "language": "python",
     "metadata": {},
     "outputs": [
      {
       "output_type": "pyout",
       "prompt_number": 66,
       "text": [
        "8727"
       ]
      }
     ],
     "prompt_number": 66
    },
    {
     "cell_type": "markdown",
     "metadata": {},
     "source": [
      "###Make the DBs"
     ]
    },
    {
     "cell_type": "code",
     "collapsed": false,
     "input": [
      "! makeblastdb -in ../seqs/dep_orfs.fasta -title dep -out ../BLAST_dbs/dep -dbtype nucl"
     ],
     "language": "python",
     "metadata": {},
     "outputs": [
      {
       "output_type": "stream",
       "stream": "stdout",
       "text": [
        "\r\n",
        "\r\n",
        "Building a new DB, current time: 08/13/2013 20:52:21\r\n",
        "New DB name:   ../BLAST_dbs/dep\r\n",
        "New DB title:  dep\r\n",
        "Sequence type: Nucleotide\r\n"
       ]
      },
      {
       "output_type": "stream",
       "stream": "stdout",
       "text": [
        "Keep Linkouts: T\r\n",
        "Keep MBits: T\r\n",
        "Maximum file size: 1000000000B\r\n"
       ]
      },
      {
       "output_type": "stream",
       "stream": "stdout",
       "text": [
        "Adding sequences from FASTA; added 4435 sequences in 0.834085 seconds.\r\n"
       ]
      }
     ],
     "prompt_number": 67
    },
    {
     "cell_type": "code",
     "collapsed": false,
     "input": [
      "! makeblastdb -in ../seqs/brev_orfs.fasta -title dep -out ../BLAST_dbs/brev -dbtype nucl"
     ],
     "language": "python",
     "metadata": {},
     "outputs": [
      {
       "output_type": "stream",
       "stream": "stdout",
       "text": [
        "\r\n",
        "\r\n",
        "Building a new DB, current time: 08/13/2013 20:52:25\r\n",
        "New DB name:   ../BLAST_dbs/brev\r\n",
        "New DB title:  dep\r\n",
        "Sequence type: Nucleotide\r\n",
        "Keep Linkouts: T\r\n",
        "Keep MBits: T\r\n",
        "Maximum file size: 1000000000B\r\n"
       ]
      },
      {
       "output_type": "stream",
       "stream": "stdout",
       "text": [
        "Adding sequences from FASTA; added 8727 sequences in 0.635151 seconds.\r\n"
       ]
      }
     ],
     "prompt_number": 68
    },
    {
     "cell_type": "markdown",
     "metadata": {},
     "source": [
      "###Blast one against the other\n",
      "\n",
      "A very generous e-value at this stage, will leave us room later on:"
     ]
    },
    {
     "cell_type": "code",
     "collapsed": false,
     "input": [
      "! blastn -query ../seqs/dep_orfs.fasta -out ../BLAST_results/dep_v_brev.xml -db ../BLAST_dbs/brev -outfmt 5 -evalue 1e-6"
     ],
     "language": "python",
     "metadata": {},
     "outputs": [],
     "prompt_number": 69
    },
    {
     "cell_type": "code",
     "collapsed": false,
     "input": [
      "! blastn -query ../seqs/brev_orfs.fasta -out ../BLAST_results/brev_v_dep.xml -db ../BLAST_dbs/dep -outfmt 5 -evalue 1e-6"
     ],
     "language": "python",
     "metadata": {},
     "outputs": [],
     "prompt_number": 70
    },
    {
     "cell_type": "markdown",
     "metadata": {},
     "source": [
      "###Use Biopython to extract some info from the BLAST results, explore them a little\n",
      "\n",
      "import the parser, find a way to grecefully skip records with no hits..."
     ]
    },
    {
     "cell_type": "code",
     "collapsed": false,
     "input": [
      "from Bio.Blast import NCBIXML\n",
      "\n",
      "def filter_hits(blast_records):\n",
      "    \"\"\" generator for blastrecords, only producing those with hits \"\"\"\n",
      "    for rec in blast_records:\n",
      "        if rec.alignments:\n",
      "            yield rec\n",
      "            "
     ],
     "language": "python",
     "metadata": {},
     "outputs": [],
     "prompt_number": 4
    },
    {
     "cell_type": "markdown",
     "metadata": {},
     "source": [
      "...now have a bit of play\n",
      "###Number of hits per sequence"
     ]
    },
    {
     "cell_type": "code",
     "collapsed": false,
     "input": [
      "brev_recs = list(NCBIXML.parse(open(\"../BLAST_results/brev_v_dep.xml\")))\n",
      "dep_recs = list(NCBIXML.parse(open(\"../BLAST_results/dep_v_brev.xml\")))\n",
      "\n",
      "\n",
      "brev_hits = [len(r.alignments) for r in brev_recs]\n",
      "dep_hits = [len(r.alignments) for r in dep_recs]\n",
      "\n",
      "pyplot.hist(brev_hits,color=\"red\", alpha=0.6, range=[0,8])\n",
      "pyplot.hist(dep_hits,color=\"blue\", alpha=0.6, range=[0,8])\n",
      "\n"
     ],
     "language": "python",
     "metadata": {},
     "outputs": [
      {
       "metadata": {},
       "output_type": "pyout",
       "prompt_number": 11,
       "text": [
        "(array([1929, 2361,  108,   26,    0,    5,    2,    2,    2,    0]),\n",
        " array([ 0. ,  0.8,  1.6,  2.4,  3.2,  4. ,  4.8,  5.6,  6.4,  7.2,  8. ]),\n",
        " <a list of 10 Patch objects>)"
       ]
      },
      {
       "metadata": {},
       "output_type": "display_data",
       "png": "[encoded data removed]",
       "text": [
        "<matplotlib.figure.Figure at 0x341ab90>"
       ]
      }
     ],
     "prompt_number": 11
    },
    {
     "cell_type": "code",
     "collapsed": false,
     "input": [
      "brev_hits = [len(r.alignments[0].hsps) for r in brev_hits]\n",
      "dep_hits = [len(r.alignments[0].hsps) for r in dep_hits]\n",
      "\n",
      "pyplot.hist(brev_hits,color=\"red\", alpha=0.6, range=[0,8])\n",
      "pyplot.hist(dep_hits, color=\"blue\", alpha=0.6, range=[0,8])\n"
     ],
     "language": "python",
     "metadata": {},
     "outputs": [
      {
       "ename": "AttributeError",
       "evalue": "'int' object has no attribute 'alignments'",
       "output_type": "pyerr",
       "traceback": [
        "\u001b[1;31m---------------------------------------------------------------------------\u001b[0m\n\u001b[1;31mAttributeError\u001b[0m                            Traceback (most recent call last)",
        "\u001b[1;32m<ipython-input-13-6e0a3019cd52>\u001b[0m in \u001b[0;36m<module>\u001b[1;34m()\u001b[0m\n\u001b[1;32m----> 1\u001b[1;33m \u001b[0mbrev_hits\u001b[0m \u001b[1;33m=\u001b[0m \u001b[1;33m[\u001b[0m\u001b[0mlen\u001b[0m\u001b[1;33m(\u001b[0m\u001b[0mr\u001b[0m\u001b[1;33m.\u001b[0m\u001b[0malignments\u001b[0m\u001b[1;33m[\u001b[0m\u001b[1;36m0\u001b[0m\u001b[1;33m]\u001b[0m\u001b[1;33m.\u001b[0m\u001b[0mhsps\u001b[0m\u001b[1;33m)\u001b[0m \u001b[1;32mfor\u001b[0m \u001b[0mr\u001b[0m \u001b[1;32min\u001b[0m \u001b[0mbrev_hits\u001b[0m\u001b[1;33m]\u001b[0m\u001b[1;33m\u001b[0m\u001b[0m\n\u001b[0m\u001b[0;32m      2\u001b[0m \u001b[0mdep_hits\u001b[0m \u001b[1;33m=\u001b[0m \u001b[1;33m[\u001b[0m\u001b[0mlen\u001b[0m\u001b[1;33m(\u001b[0m\u001b[0mr\u001b[0m\u001b[1;33m.\u001b[0m\u001b[0malignments\u001b[0m\u001b[1;33m[\u001b[0m\u001b[1;36m0\u001b[0m\u001b[1;33m]\u001b[0m\u001b[1;33m.\u001b[0m\u001b[0mhsps\u001b[0m\u001b[1;33m)\u001b[0m \u001b[1;32mfor\u001b[0m \u001b[0mr\u001b[0m \u001b[1;32min\u001b[0m \u001b[0mdep_hits\u001b[0m\u001b[1;33m]\u001b[0m\u001b[1;33m\u001b[0m\u001b[0m\n\u001b[0;32m      3\u001b[0m \u001b[1;33m\u001b[0m\u001b[0m\n\u001b[0;32m      4\u001b[0m \u001b[0mpyplot\u001b[0m\u001b[1;33m.\u001b[0m\u001b[0mhist\u001b[0m\u001b[1;33m(\u001b[0m\u001b[0mbrev_hits\u001b[0m\u001b[1;33m,\u001b[0m\u001b[0mcolor\u001b[0m\u001b[1;33m=\u001b[0m\u001b[1;34m\"red\"\u001b[0m\u001b[1;33m,\u001b[0m \u001b[0malpha\u001b[0m\u001b[1;33m=\u001b[0m\u001b[1;36m0.6\u001b[0m\u001b[1;33m,\u001b[0m \u001b[0mrange\u001b[0m\u001b[1;33m=\u001b[0m\u001b[1;33m[\u001b[0m\u001b[1;36m0\u001b[0m\u001b[1;33m,\u001b[0m\u001b[1;36m8\u001b[0m\u001b[1;33m]\u001b[0m\u001b[1;33m)\u001b[0m\u001b[1;33m\u001b[0m\u001b[0m\n\u001b[0;32m      5\u001b[0m \u001b[0mpyplot\u001b[0m\u001b[1;33m.\u001b[0m\u001b[0mhist\u001b[0m\u001b[1;33m(\u001b[0m\u001b[0mdep_hits\u001b[0m\u001b[1;33m,\u001b[0m \u001b[0mcolor\u001b[0m\u001b[1;33m=\u001b[0m\u001b[1;34m\"blue\"\u001b[0m\u001b[1;33m,\u001b[0m \u001b[0malpha\u001b[0m\u001b[1;33m=\u001b[0m\u001b[1;36m0.6\u001b[0m\u001b[1;33m,\u001b[0m \u001b[0mrange\u001b[0m\u001b[1;33m=\u001b[0m\u001b[1;33m[\u001b[0m\u001b[1;36m0\u001b[0m\u001b[1;33m,\u001b[0m\u001b[1;36m8\u001b[0m\u001b[1;33m]\u001b[0m\u001b[1;33m)\u001b[0m\u001b[1;33m\u001b[0m\u001b[0m\n",
        "\u001b[1;31mAttributeError\u001b[0m: 'int' object has no attribute 'alignments'"
       ]
      }
     ],
     "prompt_number": 13
    },
    {
     "cell_type": "markdown",
     "metadata": {},
     "source": [
      "###Check out the e-values of the 1st hits\n",
      "Couldn't make nice plots, so use Tukey's 5 numbers instead"
     ]
    },
    {
     "cell_type": "markdown",
     "metadata": {},
     "source": [
      "### What percentage of residues match in each direction"
     ]
    },
    {
     "cell_type": "code",
     "collapsed": false,
     "input": [
      "def ident(rec):\n",
      "    hit = rec.alignments[0].hsps[0]\n",
      "    ident = float(hit.positives) / hit.align_length  \n",
      "    return ident\n",
      "\n",
      "\n",
      "pyplot.hist([ident(r) for r in filter_hits(brev_recs)], range=[0.75,1], alpha=0.6, color=\"red\")\n",
      "pyplot.hist([ident(r) for r in filter_hits(dep_recs)], range=[0.75,1], alpha=0.6, color=\"blue\")\n"
     ],
     "language": "python",
     "metadata": {},
     "outputs": [
      {
       "output_type": "pyout",
       "prompt_number": 131,
       "text": [
        "(array([   0,    1,    5,   14,   14,   13,    7,   22,  107, 2322]),\n",
        " array([ 0.75 ,  0.775,  0.8  ,  0.825,  0.85 ,  0.875,  0.9  ,  0.925,\n",
        "        0.95 ,  0.975,  1.   ]),\n",
        " <a list of 10 Patch objects>)"
       ]
      },
      {
       "output_type": "display_data",
       "png": "[encoded data removed]"
      }
     ],
     "prompt_number": 131
    },
    {
     "cell_type": "markdown",
     "metadata": {},
     "source": [
      "what about those double-hits, are most of them notable worse than the top hit?"
     ]
    },
    {
     "cell_type": "code",
     "collapsed": false,
     "input": [
      "def ident2(hsps):\n",
      "    ident = float(hsps.positives) / hsps.align_length  \n",
      "    return ident\n",
      "\n",
      "\n",
      "\n",
      "doubles = list((r.alignments for r in brev_recs if len(r.alignments) > 1))\n",
      "\n",
      "\n",
      "tops = [ident2(a[0].hsps[0]) for a in doubles]\n",
      "seconds = [ident2(a[1].hsps[0]) for a in doubles]\n",
      "\n",
      "pyplot.scatter(tops, seconds)\n"
     ],
     "language": "python",
     "metadata": {},
     "outputs": [
      {
       "output_type": "pyout",
       "prompt_number": 127,
       "text": [
        "<matplotlib.collections.PathCollection at 0x93fbad0>"
       ]
      },
      {
       "output_type": "display_data",
       "png": "[encoded data removed]"
      }
     ],
     "prompt_number": 127
    },
    {
     "cell_type": "code",
     "collapsed": false,
     "input": [
      "r = brev_recs[1]\n",
      "r.alignments[0].hsps[0]"
     ],
     "language": "python",
     "metadata": {},
     "outputs": [
      {
       "output_type": "pyout",
       "prompt_number": 118,
       "text": [
        "<Bio.Blast.Record.HSP at 0x134daed0>"
       ]
      }
     ],
     "prompt_number": 118
    },
    {
     "cell_type": "markdown",
     "metadata": {},
     "source": [
      "\n"
     ]
    },
    {
     "cell_type": "markdown",
     "metadata": {},
     "source": [
      "##About those doubles...\n",
      "\n",
      "Some of those contifs with multiple hits will be two non-overlapping sections of teh same orthologue (i.e. incomplete transcitpts in the less-well characterised depcricepes genome. If hits are non overlapping, and have very similar sequence identity to first hit we want to build a combined sequence. This class will work with a one-hit blast rec too. "
     ]
    },
    {
     "cell_type": "code",
     "collapsed": false,
     "input": [
      "class PotentialOrtholog:\n",
      "    \n",
      "    def __init__(self,rec):\n",
      "        self.rec = rec\n",
      "        self.included = self._filter_overlapping()\n",
      "\n",
      "    def _get_hit_coords(self):\n",
      "        \"\"\" \"\"\"\n",
      "        return [(a.hsps[0].query_start, a.hsps[0].query_end) for a in self.rec.alignments]\n",
      "    \n",
      "    def _is_overlapping(a,b):\n",
      "        \"\"\"Test where range of value in 'b' overlaps with 'a' \"\"\"\n",
      "        #if second tuple starts before end of first\n",
      "        if b[0] < a[1]:\n",
      "            return  b[1] > a[0]\n",
      "        else:\n",
      "            return False\n",
      "    \n",
      "    def _filter_overlapping(self):\n",
      "        \"\"\" \"\"\"\n",
      "        r = self._get_hit_coords()\n",
      "        res = [True]\n",
      "        if len(r) > 1:\n",
      "            keepers = [ r[0] ]\n",
      "            for c in r[1:]:\n",
      "                if not any([is_overlapping(c,k) for k in keepers]):\n",
      "                    keepers.append(c)\n",
      "                    res.append(True)\n",
      "                else:\n",
      "                    res.append(False)\n",
      "        return(res)\n",
      "\n",
      "    def _distance(self, ali):\n",
      "        \"\"\" \"\"\"\n",
      "        return 1 - (ali.hsps[0].positives / float(ali.hsps[0].align_length))\n",
      "\n",
      "    \n",
      "    def write_alignments(self, distance_cutoff=0.01):\n",
      "        \"\"\" \"\"\"\n",
      "        top_hit = self.rec.alignments[0]\n",
      "        \n",
      "        dist = self._distance(top_hit)\n",
      "        seq_a = top_hit.hsps[0].query\n",
      "        seq_b = top_hit.hsps[0].sbjct\n",
      "        b_name = top_hit.hit_def\n",
      "        try:\n",
      "            for i,a in enumerate(self.rec.alignments[1:]):\n",
      "                if self.included[i+1]:\n",
      "                    if (self._distance(a) - dist) < distance_cutoff:\n",
      "                        seq_a += \"NNN\" + a.hsps[0].query\n",
      "                        seq_b += \"NNN\" + a.hsps[0].sbjct\n",
      "                        b_name += \"_\" + a.hit_def\n",
      "        except IndexError: #only one hit, that's fine\n",
      "            pass\n",
      "        with open(\"../alignments/{0}.fasta\".format(self.rec.query), \"w\") as out:\n",
      "            out.write(\"\\n>{0}\\n{1}\".format(self.rec.query, seq_a))\n",
      "            out.write(\"\\n>{0}\\n{1}\".format(b_name, seq_b))\n",
      "        \n",
      "def write_ali_from_brec(brec, d=0.01):\n",
      "    \"\"\" \"\"\"\n",
      "    PotentialOrtholog(brec).write_alignments(distance_cutoff=d)"
     ],
     "language": "python",
     "metadata": {},
     "outputs": [],
     "prompt_number": 106
    },
    {
     "cell_type": "markdown",
     "metadata": {},
     "source": [
      "Finding overlaps is important, pull that function out and check for sure that it works"
     ]
    },
    {
     "cell_type": "code",
     "collapsed": false,
     "input": [
      "def is_overlapping(a,b):\n",
      "    \"\"\"Test where range of value in 'b' overlaps with 'a' \"\"\"\n",
      "    #if second tuple starts before end of first\n",
      "    if b[0] < a[1]:\n",
      "        return  b[1] > a[0]\n",
      "    else:\n",
      "        return False\n",
      "\n",
      "print is_overlapping ( (100,120), (130,140) ) #F\n",
      "print is_overlapping ( (130,140), (100,120) ) #F\n",
      "print is_overlapping ( (100,120), (105,140) ) #T\n",
      "print is_overlapping ( (130,140), (132,180) ) #T"
     ],
     "language": "python",
     "metadata": {},
     "outputs": [
      {
       "output_type": "stream",
       "stream": "stdout",
       "text": [
        "False"
       ]
      },
      {
       "output_type": "stream",
       "stream": "stdout",
       "text": [
        "\n",
        "False\n",
        "True\n",
        "True\n"
       ]
      }
     ],
     "prompt_number": 10
    },
    {
     "cell_type": "markdown",
     "metadata": {},
     "source": [
      "\n",
      "#Looks good to me... lets find the best blasts"
     ]
    },
    {
     "cell_type": "code",
     "collapsed": false,
     "input": [
      "from BioSQL import BioSeqDatabase\n",
      "server = BioSeqDatabase.open_database(driver=\"sqlite\", user=\"david\", db=\"../../db/galaxiids.sqlite\")\n",
      "db_brev = server[\"brev_sp\"]\n",
      "db_dep = server[\"dep_sp\"]\n",
      "\n",
      "\n",
      "def top_hit(rec):\n",
      "    \"\"\" \"\"\"\n",
      "    return(rec.alignments[0].hit_def)\n",
      "\n",
      "def same_sp(brevID, depID):\n",
      "    \"\"\" \"\"\"\n",
      "    dep_sp = db_dep.get_Seq_by_id(depID.replace(\"dep\", \"contig\")).annotations[\"swissprot\"]\n",
      "    if dep_sp == \"NA\":\n",
      "        return False\n",
      "    brev_sp = db_brev.get_Seq_by_id(brevID.replace(\"brev\", \"contig\")).annotations[\"swissprot\"]\n",
      "    try:\n",
      "        return brev_sp[0] == dep_sp[0]\n",
      "    except IndexError: #no dep hits from swissprot\n",
      "        return False\n",
      "        \n",
      "\n",
      "brev_blasts = {r.query:top_hit(r) for r in filter_hits(NCBIXML.parse(open(\"../BLAST_results/brev_v_dep.xml\")))}\n",
      "               "
     ],
     "language": "python",
     "metadata": {},
     "outputs": [],
     "prompt_number": 14
    },
    {
     "cell_type": "code",
     "collapsed": false,
     "input": [
      "def is_recipro(dep_blast_rec, brev_blasts=brev_blasts):\n",
      "    \"\"\" \"\"\"\n",
      "    dep_hit = top_hit(dep_blast_rec)\n",
      "    if brev_blasts[dep_hit] == dep_blast_rec.query:\n",
      "        return same_sp(dep_hit, dep_blast_rec.query)\n",
      "    else:\n",
      "        return False\n"
     ],
     "language": "python",
     "metadata": {},
     "outputs": [],
     "prompt_number": 15
    },
    {
     "cell_type": "code",
     "collapsed": false,
     "input": [
      "recipros = (r for r in filter_hits(NCBIXML.parse(open(\"../BLAST_results/dep_v_brev.xml\"))) if is_recipro(r))\n",
      "\n",
      "ali = 0\n",
      "for r in recipros:\n",
      "    write_ali_from_brec(r)\n",
      "    ali += 1\n",
      "\n",
      "print \"wrote {0} alignments\".format(ali)"
     ],
     "language": "python",
     "metadata": {},
     "outputs": [
      {
       "output_type": "stream",
       "stream": "stdout",
       "text": [
        "wrote 1232 alignments\n"
       ]
      }
     ],
     "prompt_number": 109
    },
    {
     "cell_type": "markdown",
     "metadata": {},
     "source": [
      "Whoops, need to write out the ortholog-pairs too... "
     ]
    },
    {
     "cell_type": "code",
     "collapsed": false,
     "input": [
      "recipros = (r for r in filter_hits(NCBIXML.parse(open(\"../BLAST_results/dep_v_brev.xml\"))) if is_recipro(r))\n",
      "\n",
      "with open(\"../results/orthologues.csv\", \"w\") as out:\n",
      "    out.write(\"brev_id, dep_id\\n\")\n",
      "    pairs = 0\n",
      "    for r in recipros:\n",
      "        out.write(\",\".join([top_hit(r), r.query]) + \"\\n\")\n",
      "        pairs += 1\n",
      "        \n",
      "print \"wrote {0} lines to '../results/orthologues.csv'\".format(pairs)\n"
     ],
     "language": "python",
     "metadata": {},
     "outputs": [
      {
       "output_type": "stream",
       "stream": "stdout",
       "text": [
        "wrote 1232 lines to '../results/orthologues.csv'\n"
       ]
      }
     ],
     "prompt_number": 20
    },
    {
     "cell_type": "code",
     "collapsed": false,
     "input": [
      "import os\n",
      "import subprocess\n",
      "\n",
      "for f in os.listdir(\"../alignments/\"):\n",
      "    fname = \"../alignments/\" + f\n",
      "    subprocess.call( [\"prank\", \"-d=\"+fname, \"-o=\"+fname, \"-codon\"] )\n",
      "    \n",
      "\n"
     ],
     "language": "python",
     "metadata": {},
     "outputs": [],
     "prompt_number": 110
    },
    {
     "cell_type": "code",
     "collapsed": false,
     "input": [
      "! ../scripts/DnDs.r"
     ],
     "language": "python",
     "metadata": {},
     "outputs": [
      {
       "output_type": "stream",
       "stream": "stdout",
       "text": [
        "\r\n",
        "Attaching package: \u2018plyr\u2019\r\n",
        "\r\n"
       ]
      },
      {
       "output_type": "stream",
       "stream": "stdout",
       "text": [
        "The following object is masked from \u2018package:seqinr\u2019:\r\n",
        "\r\n",
        "    count\r\n",
        "\r\n"
       ]
      },
      {
       "output_type": "stream",
       "stream": "stdout",
       "text": [
        "\r",
        "  |                                                                            \r",
        "  |                                                                      |   0%"
       ]
      },
      {
       "output_type": "stream",
       "stream": "stdout",
       "text": [
        "\r",
        "  |                                                                            \r",
        "  |                                                                      |   1%"
       ]
      },
      {
       "output_type": "stream",
       "stream": "stdout",
       "text": [
        "\r",
        "  |                                                                            \r",
        "  |=                                                                     |   1%"
       ]
      },
      {
       "output_type": "stream",
       "stream": "stdout",
       "text": [
        "\r",
        "  |                                                                            \r",
        "  |=                                                                     |   2%"
       ]
      },
      {
       "output_type": "stream",
       "stream": "stdout",
       "text": [
        "\r",
        "  |                                                                            \r",
        "  |==                                                                    |   2%"
       ]
      },
      {
       "output_type": "stream",
       "stream": "stdout",
       "text": [
        "\r",
        "  |                                                                            \r",
        "  |==                                                                    |   3%"
       ]
      },
      {
       "output_type": "stream",
       "stream": "stdout",
       "text": [
        "\r",
        "  |                                                                            \r",
        "  |==                                                                    |   4%"
       ]
      },
      {
       "output_type": "stream",
       "stream": "stdout",
       "text": [
        "\r",
        "  |                                                                            \r",
        "  |===                                                                   |   4%"
       ]
      },
      {
       "output_type": "stream",
       "stream": "stdout",
       "text": [
        "\r",
        "  |                                                                            \r",
        "  |===                                                                   |   5%"
       ]
      },
      {
       "output_type": "stream",
       "stream": "stdout",
       "text": [
        "\r",
        "  |                                                                            \r",
        "  |====                                                                  |   5%"
       ]
      },
      {
       "output_type": "stream",
       "stream": "stdout",
       "text": [
        "\r",
        "  |                                                                            \r",
        "  |====                                                                  |   6%"
       ]
      },
      {
       "output_type": "stream",
       "stream": "stdout",
       "text": [
        "\r",
        "  |                                                                            "
       ]
      },
      {
       "output_type": "stream",
       "stream": "stdout",
       "text": [
        "\r",
        "  |=====                                                                 |   6%\r",
        "  |                                                                            \r",
        "  |=====                                                                 |   7%"
       ]
      },
      {
       "output_type": "stream",
       "stream": "stdout",
       "text": [
        "\r",
        "  |                                                                            \r",
        "  |=====                                                                 |   8%"
       ]
      },
      {
       "output_type": "stream",
       "stream": "stdout",
       "text": [
        "\r",
        "  |                                                                            \r",
        "  |======                                                                |   8%"
       ]
      },
      {
       "output_type": "stream",
       "stream": "stdout",
       "text": [
        "\r",
        "  |                                                                            \r",
        "  |======                                                                |   9%"
       ]
      },
      {
       "output_type": "stream",
       "stream": "stdout",
       "text": [
        "\r",
        "  |                                                                            \r",
        "  |=======                                                               |   9%"
       ]
      },
      {
       "output_type": "stream",
       "stream": "stdout",
       "text": [
        "\r",
        "  |                                                                            \r",
        "  |=======                                                               |  10%"
       ]
      },
      {
       "output_type": "stream",
       "stream": "stdout",
       "text": [
        "\r",
        "  |                                                                            \r",
        "  |=======                                                               |  11%"
       ]
      },
      {
       "output_type": "stream",
       "stream": "stdout",
       "text": [
        "\r",
        "  |                                                                            \r",
        "  |========                                                              |  11%"
       ]
      },
      {
       "output_type": "stream",
       "stream": "stdout",
       "text": [
        "\r",
        "  |                                                                            \r",
        "  |========                                                              |  12%"
       ]
      },
      {
       "output_type": "stream",
       "stream": "stdout",
       "text": [
        "\r",
        "  |                                                                            \r",
        "  |=========                                                             |  12%"
       ]
      },
      {
       "output_type": "stream",
       "stream": "stdout",
       "text": [
        "\r",
        "  |                                                                            \r",
        "  |=========                                                             |  13%"
       ]
      },
      {
       "output_type": "stream",
       "stream": "stdout",
       "text": [
        "\r",
        "  |                                                                            \r",
        "  |==========                                                            |  14%"
       ]
      },
      {
       "output_type": "stream",
       "stream": "stdout",
       "text": [
        "\r",
        "  |                                                                            \r",
        "  |==========                                                            |  15%"
       ]
      },
      {
       "output_type": "stream",
       "stream": "stdout",
       "text": [
        "\r",
        "  |                                                                            \r",
        "  |===========                                                           |  15%"
       ]
      },
      {
       "output_type": "stream",
       "stream": "stdout",
       "text": [
        "\r",
        "  |                                                                            \r",
        "  |===========                                                           |  16%"
       ]
      },
      {
       "output_type": "stream",
       "stream": "stdout",
       "text": [
        "\r",
        "  |                                                                            \r",
        "  |============                                                          |  16%\r",
        "  |                                                                            \r",
        "  |============                                                          |  17%"
       ]
      },
      {
       "output_type": "stream",
       "stream": "stdout",
       "text": [
        "\r",
        "  |                                                                            \r",
        "  |============                                                          |  18%"
       ]
      },
      {
       "output_type": "stream",
       "stream": "stdout",
       "text": [
        "\r",
        "  |                                                                            \r",
        "  |=============                                                         |  18%"
       ]
      },
      {
       "output_type": "stream",
       "stream": "stdout",
       "text": [
        "\r",
        "  |                                                                            \r",
        "  |=============                                                         |  19%"
       ]
      },
      {
       "output_type": "stream",
       "stream": "stdout",
       "text": [
        "\r",
        "  |                                                                            \r",
        "  |==============                                                        |  19%\r",
        "  |                                                                            \r",
        "  |==============                                                        |  20%"
       ]
      },
      {
       "output_type": "stream",
       "stream": "stdout",
       "text": [
        "\r",
        "  |                                                                            \r",
        "  |==============                                                        |  21%\r",
        "  |                                                                            \r",
        "  |===============                                                       |  21%"
       ]
      },
      {
       "output_type": "stream",
       "stream": "stdout",
       "text": [
        "\r",
        "  |                                                                            \r",
        "  |===============                                                       |  22%"
       ]
      },
      {
       "output_type": "stream",
       "stream": "stdout",
       "text": [
        "\r",
        "  |                                                                            \r",
        "  |================                                                      |  22%"
       ]
      },
      {
       "output_type": "stream",
       "stream": "stdout",
       "text": [
        "\r",
        "  |                                                                            \r",
        "  |================                                                      |  23%"
       ]
      },
      {
       "output_type": "stream",
       "stream": "stdout",
       "text": [
        "\r",
        "  |                                                                            \r",
        "  |================                                                      |  24%"
       ]
      },
      {
       "output_type": "stream",
       "stream": "stdout",
       "text": [
        "\r",
        "  |                                                                            \r",
        "  |=================                                                     |  24%"
       ]
      },
      {
       "output_type": "stream",
       "stream": "stdout",
       "text": [
        "\r",
        "  |                                                                            \r",
        "  |=================                                                     |  25%"
       ]
      },
      {
       "output_type": "stream",
       "stream": "stdout",
       "text": [
        "\r",
        "  |                                                                            \r",
        "  |==================                                                    |  25%"
       ]
      },
      {
       "output_type": "stream",
       "stream": "stdout",
       "text": [
        "\r",
        "  |                                                                            \r",
        "  |==================                                                    |  26%"
       ]
      },
      {
       "output_type": "stream",
       "stream": "stdout",
       "text": [
        "\r",
        "  |                                                                            \r",
        "  |===================                                                   |  26%"
       ]
      },
      {
       "output_type": "stream",
       "stream": "stdout",
       "text": [
        "\r",
        "  |                                                                            \r",
        "  |===================                                                   |  27%"
       ]
      },
      {
       "output_type": "stream",
       "stream": "stdout",
       "text": [
        "\r",
        "  |                                                                            \r",
        "  |===================                                                   |  28%"
       ]
      },
      {
       "output_type": "stream",
       "stream": "stdout",
       "text": [
        "\r",
        "  |                                                                            \r",
        "  |====================                                                  |  28%"
       ]
      },
      {
       "output_type": "stream",
       "stream": "stdout",
       "text": [
        "\r",
        "  |                                                                            \r",
        "  |====================                                                  |  29%"
       ]
      },
      {
       "output_type": "stream",
       "stream": "stdout",
       "text": [
        "\r",
        "  |                                                                            \r",
        "  |=====================                                                 |  29%\r",
        "  |                                                                            \r",
        "  |=====================                                                 |  30%"
       ]
      },
      {
       "output_type": "stream",
       "stream": "stdout",
       "text": [
        "\r",
        "  |                                                                            \r",
        "  |=====================                                                 |  31%\r",
        "  |                                                                            \r",
        "  |======================                                                |  31%"
       ]
      },
      {
       "output_type": "stream",
       "stream": "stdout",
       "text": [
        "\r",
        "  |                                                                            \r",
        "  |======================                                                |  32%"
       ]
      },
      {
       "output_type": "stream",
       "stream": "stdout",
       "text": [
        "\r",
        "  |                                                                            \r",
        "  |=======================                                               |  32%"
       ]
      },
      {
       "output_type": "stream",
       "stream": "stdout",
       "text": [
        "\r",
        "  |                                                                            \r",
        "  |=======================                                               |  33%"
       ]
      },
      {
       "output_type": "stream",
       "stream": "stdout",
       "text": [
        "\r",
        "  |                                                                            \r",
        "  |=======================                                               |  34%\r",
        "  |                                                                            \r",
        "  |========================                                              |  34%"
       ]
      },
      {
       "output_type": "stream",
       "stream": "stdout",
       "text": [
        "\r",
        "  |                                                                            \r",
        "  |========================                                              |  35%"
       ]
      },
      {
       "output_type": "stream",
       "stream": "stdout",
       "text": [
        "\r",
        "  |                                                                            \r",
        "  |=========================                                             |  35%\r",
        "  |                                                                            \r",
        "  |=========================                                             |  36%"
       ]
      },
      {
       "output_type": "stream",
       "stream": "stdout",
       "text": [
        "\r",
        "  |                                                                            \r",
        "  |==========================                                            |  37%"
       ]
      },
      {
       "output_type": "stream",
       "stream": "stdout",
       "text": [
        "\r",
        "  |                                                                            \r",
        "  |==========================                                            |  38%"
       ]
      },
      {
       "output_type": "stream",
       "stream": "stdout",
       "text": [
        "\r",
        "  |                                                                            \r",
        "  |===========================                                           |  38%"
       ]
      },
      {
       "output_type": "stream",
       "stream": "stdout",
       "text": [
        "\r",
        "  |                                                                            \r",
        "  |===========================                                           |  39%"
       ]
      },
      {
       "output_type": "stream",
       "stream": "stdout",
       "text": [
        "\r",
        "  |                                                                            \r",
        "  |============================                                          |  39%\r",
        "  |                                                                            \r",
        "  |============================                                          |  40%"
       ]
      },
      {
       "output_type": "stream",
       "stream": "stdout",
       "text": [
        "\r",
        "  |                                                                            \r",
        "  |============================                                          |  41%"
       ]
      },
      {
       "output_type": "stream",
       "stream": "stdout",
       "text": [
        "\r",
        "  |                                                                            \r",
        "  |=============================                                         |  41%"
       ]
      },
      {
       "output_type": "stream",
       "stream": "stdout",
       "text": [
        "\r",
        "  |                                                                            \r",
        "  |=============================                                         |  42%"
       ]
      },
      {
       "output_type": "stream",
       "stream": "stdout",
       "text": [
        "\r",
        "  |                                                                            \r",
        "  |==============================                                        |  42%\r",
        "  |                                                                            \r",
        "  |==============================                                        |  43%"
       ]
      },
      {
       "output_type": "stream",
       "stream": "stdout",
       "text": [
        "\r",
        "  |                                                                            \r",
        "  |==============================                                        |  44%"
       ]
      },
      {
       "output_type": "stream",
       "stream": "stdout",
       "text": [
        "\r",
        "  |                                                                            \r",
        "  |===============================                                       |  44%"
       ]
      },
      {
       "output_type": "stream",
       "stream": "stdout",
       "text": [
        "\r",
        "  |                                                                            \r",
        "  |===============================                                       |  45%\r",
        "  |                                                                            \r",
        "  |================================                                      |  45%"
       ]
      },
      {
       "output_type": "stream",
       "stream": "stdout",
       "text": [
        "\r",
        "  |                                                                            \r",
        "  |================================                                      |  46%"
       ]
      },
      {
       "output_type": "stream",
       "stream": "stdout",
       "text": [
        "\r",
        "  |                                                                            \r",
        "  |=================================                                     |  46%\r",
        "  |                                                                            \r",
        "  |=================================                                     |  47%"
       ]
      },
      {
       "output_type": "stream",
       "stream": "stdout",
       "text": [
        "\r",
        "  |                                                                            \r",
        "  |=================================                                     |  48%"
       ]
      },
      {
       "output_type": "stream",
       "stream": "stdout",
       "text": [
        "\r",
        "  |                                                                            \r",
        "  |==================================                                    |  48%"
       ]
      },
      {
       "output_type": "stream",
       "stream": "stdout",
       "text": [
        "\r",
        "  |                                                                            \r",
        "  |==================================                                    |  49%"
       ]
      },
      {
       "output_type": "stream",
       "stream": "stdout",
       "text": [
        "\r",
        "  |                                                                            \r",
        "  |===================================                                   |  49%"
       ]
      },
      {
       "output_type": "stream",
       "stream": "stdout",
       "text": [
        "\r",
        "  |                                                                            \r",
        "  |===================================                                   |  50%"
       ]
      },
      {
       "output_type": "stream",
       "stream": "stdout",
       "text": [
        "\r",
        "  |                                                                            \r",
        "  |===================================                                   |  51%"
       ]
      },
      {
       "output_type": "stream",
       "stream": "stdout",
       "text": [
        "\r",
        "  |                                                                            \r",
        "  |====================================                                  |  51%"
       ]
      },
      {
       "output_type": "stream",
       "stream": "stdout",
       "text": [
        "\r",
        "  |                                                                            \r",
        "  |====================================                                  |  52%"
       ]
      },
      {
       "output_type": "stream",
       "stream": "stdout",
       "text": [
        "\r",
        "  |                                                                            \r",
        "  |=====================================                                 |  52%\r",
        "  |                                                                            \r",
        "  |=====================================                                 |  53%"
       ]
      },
      {
       "output_type": "stream",
       "stream": "stdout",
       "text": [
        "\r",
        "  |                                                                            \r",
        "  |=====================================                                 |  54%\r",
        "  |                                                                            \r",
        "  |======================================                                |  54%"
       ]
      },
      {
       "output_type": "stream",
       "stream": "stdout",
       "text": [
        "\r",
        "  |                                                                            \r",
        "  |======================================                                |  55%\r",
        "  |                                                                            \r",
        "  |=======================================                               |  55%"
       ]
      },
      {
       "output_type": "stream",
       "stream": "stdout",
       "text": [
        "\r",
        "  |                                                                            \r",
        "  |=======================================                               |  56%"
       ]
      },
      {
       "output_type": "stream",
       "stream": "stdout",
       "text": [
        "\r",
        "  |                                                                            \r",
        "  |========================================                              |  56%\r",
        "  |                                                                            \r",
        "  |========================================                              |  57%"
       ]
      },
      {
       "output_type": "stream",
       "stream": "stdout",
       "text": [
        "\r",
        "  |                                                                            \r",
        "  |========================================                              |  58%\r",
        "  |                                                                            \r",
        "  |=========================================                             |  58%"
       ]
      },
      {
       "output_type": "stream",
       "stream": "stdout",
       "text": [
        "\r",
        "  |                                                                            \r",
        "  |=========================================                             |  59%"
       ]
      },
      {
       "output_type": "stream",
       "stream": "stdout",
       "text": [
        "\r",
        "  |                                                                            \r",
        "  |==========================================                            |  59%\r",
        "  |                                                                            \r",
        "  |==========================================                            |  60%"
       ]
      },
      {
       "output_type": "stream",
       "stream": "stdout",
       "text": [
        "\r",
        "  |                                                                            \r",
        "  |==========================================                            |  61%\r",
        "  |                                                                            \r",
        "  |===========================================                           |  61%"
       ]
      },
      {
       "output_type": "stream",
       "stream": "stdout",
       "text": [
        "\r",
        "  |                                                                            \r",
        "  |===========================================                           |  62%"
       ]
      },
      {
       "output_type": "stream",
       "stream": "stdout",
       "text": [
        "\r",
        "  |                                                                            \r",
        "  |============================================                          |  62%\r",
        "  |                                                                            \r",
        "  |============================================                          |  63%"
       ]
      },
      {
       "output_type": "stream",
       "stream": "stdout",
       "text": [
        "\r",
        "  |                                                                            \r",
        "  |=============================================                         |  64%"
       ]
      },
      {
       "output_type": "stream",
       "stream": "stdout",
       "text": [
        "\r",
        "  |                                                                            \r",
        "  |=============================================                         |  65%"
       ]
      },
      {
       "output_type": "stream",
       "stream": "stdout",
       "text": [
        "\r",
        "  |                                                                            \r",
        "  |==============================================                        |  65%"
       ]
      },
      {
       "output_type": "stream",
       "stream": "stdout",
       "text": [
        "\r",
        "  |                                                                            \r",
        "  |==============================================                        |  66%"
       ]
      },
      {
       "output_type": "stream",
       "stream": "stdout",
       "text": [
        "\r",
        "  |                                                                            \r",
        "  |===============================================                       |  66%\r",
        "  |                                                                            \r",
        "  |===============================================                       |  67%"
       ]
      },
      {
       "output_type": "stream",
       "stream": "stdout",
       "text": [
        "\r",
        "  |                                                                            \r",
        "  |===============================================                       |  68%"
       ]
      },
      {
       "output_type": "stream",
       "stream": "stdout",
       "text": [
        "\r",
        "  |                                                                            \r",
        "  |================================================                      |  68%"
       ]
      },
      {
       "output_type": "stream",
       "stream": "stdout",
       "text": [
        "\r",
        "  |                                                                            \r",
        "  |================================================                      |  69%"
       ]
      },
      {
       "output_type": "stream",
       "stream": "stdout",
       "text": [
        "\r",
        "  |                                                                            \r",
        "  |=================================================                     |  69%"
       ]
      },
      {
       "output_type": "stream",
       "stream": "stdout",
       "text": [
        "\r",
        "  |                                                                            \r",
        "  |=================================================                     |  70%"
       ]
      },
      {
       "output_type": "stream",
       "stream": "stdout",
       "text": [
        "\r",
        "  |                                                                            \r",
        "  |=================================================                     |  71%\r",
        "  |                                                                            \r",
        "  |==================================================                    |  71%"
       ]
      },
      {
       "output_type": "stream",
       "stream": "stdout",
       "text": [
        "\r",
        "  |                                                                            \r",
        "  |==================================================                    |  72%"
       ]
      },
      {
       "output_type": "stream",
       "stream": "stdout",
       "text": [
        "\r",
        "  |                                                                            \r",
        "  |===================================================                   |  72%\r",
        "  |                                                                            \r",
        "  |===================================================                   |  73%"
       ]
      },
      {
       "output_type": "stream",
       "stream": "stdout",
       "text": [
        "\r",
        "  |                                                                            \r",
        "  |===================================================                   |  74%\r",
        "  |                                                                            \r",
        "  |====================================================                  |  74%"
       ]
      },
      {
       "output_type": "stream",
       "stream": "stdout",
       "text": [
        "\r",
        "  |                                                                            \r",
        "  |====================================================                  |  75%"
       ]
      },
      {
       "output_type": "stream",
       "stream": "stdout",
       "text": [
        "\r",
        "  |                                                                            \r",
        "  |=====================================================                 |  75%"
       ]
      },
      {
       "output_type": "stream",
       "stream": "stdout",
       "text": [
        "\r",
        "  |                                                                            \r",
        "  |=====================================================                 |  76%"
       ]
      },
      {
       "output_type": "stream",
       "stream": "stdout",
       "text": [
        "\r",
        "  |                                                                            \r",
        "  |======================================================                |  76%\r",
        "  |                                                                            \r",
        "  |======================================================                |  77%"
       ]
      },
      {
       "output_type": "stream",
       "stream": "stdout",
       "text": [
        "\r",
        "  |                                                                            \r",
        "  |======================================================                |  78%"
       ]
      },
      {
       "output_type": "stream",
       "stream": "stdout",
       "text": [
        "\r",
        "  |                                                                            \r",
        "  |=======================================================               |  78%"
       ]
      },
      {
       "output_type": "stream",
       "stream": "stdout",
       "text": [
        "\r",
        "  |                                                                            \r",
        "  |=======================================================               |  79%"
       ]
      },
      {
       "output_type": "stream",
       "stream": "stdout",
       "text": [
        "\r",
        "  |                                                                            \r",
        "  |========================================================              |  79%"
       ]
      },
      {
       "output_type": "stream",
       "stream": "stdout",
       "text": [
        "\r",
        "  |                                                                            \r",
        "  |========================================================              |  80%"
       ]
      },
      {
       "output_type": "stream",
       "stream": "stdout",
       "text": [
        "\r",
        "  |                                                                            \r",
        "  |========================================================              |  81%"
       ]
      },
      {
       "output_type": "stream",
       "stream": "stdout",
       "text": [
        "\r",
        "  |                                                                            \r",
        "  |=========================================================             |  81%"
       ]
      },
      {
       "output_type": "stream",
       "stream": "stdout",
       "text": [
        "\r",
        "  |                                                                            \r",
        "  |=========================================================             |  82%"
       ]
      },
      {
       "output_type": "stream",
       "stream": "stdout",
       "text": [
        "\r",
        "  |                                                                            \r",
        "  |==========================================================            |  82%"
       ]
      },
      {
       "output_type": "stream",
       "stream": "stdout",
       "text": [
        "\r",
        "  |                                                                            \r",
        "  |==========================================================            |  83%"
       ]
      },
      {
       "output_type": "stream",
       "stream": "stdout",
       "text": [
        "\r",
        "  |                                                                            \r",
        "  |==========================================================            |  84%"
       ]
      },
      {
       "output_type": "stream",
       "stream": "stdout",
       "text": [
        "\r",
        "  |                                                                            \r",
        "  |===========================================================           |  84%"
       ]
      },
      {
       "output_type": "stream",
       "stream": "stdout",
       "text": [
        "\r",
        "  |                                                                            \r",
        "  |===========================================================           |  85%"
       ]
      },
      {
       "output_type": "stream",
       "stream": "stdout",
       "text": [
        "\r",
        "  |                                                                            \r",
        "  |============================================================          |  85%"
       ]
      },
      {
       "output_type": "stream",
       "stream": "stdout",
       "text": [
        "\r",
        "  |                                                                            \r",
        "  |============================================================          |  86%"
       ]
      },
      {
       "output_type": "stream",
       "stream": "stdout",
       "text": [
        "\r",
        "  |                                                                            \r",
        "  |=============================================================         |  87%"
       ]
      },
      {
       "output_type": "stream",
       "stream": "stdout",
       "text": [
        "\r",
        "  |                                                                            \r",
        "  |=============================================================         |  88%"
       ]
      },
      {
       "output_type": "stream",
       "stream": "stdout",
       "text": [
        "\r",
        "  |                                                                            \r",
        "  |==============================================================        |  88%"
       ]
      },
      {
       "output_type": "stream",
       "stream": "stdout",
       "text": [
        "\r",
        "  |                                                                            \r",
        "  |==============================================================        |  89%"
       ]
      },
      {
       "output_type": "stream",
       "stream": "stdout",
       "text": [
        "\r",
        "  |                                                                            \r",
        "  |===============================================================       |  89%"
       ]
      },
      {
       "output_type": "stream",
       "stream": "stdout",
       "text": [
        "\r",
        "  |                                                                            \r",
        "  |===============================================================       |  90%"
       ]
      },
      {
       "output_type": "stream",
       "stream": "stdout",
       "text": [
        "\r",
        "  |                                                                            \r",
        "  |===============================================================       |  91%"
       ]
      },
      {
       "output_type": "stream",
       "stream": "stdout",
       "text": [
        "\r",
        "  |                                                                            \r",
        "  |================================================================      |  91%"
       ]
      },
      {
       "output_type": "stream",
       "stream": "stdout",
       "text": [
        "\r",
        "  |                                                                            \r",
        "  |================================================================      |  92%"
       ]
      },
      {
       "output_type": "stream",
       "stream": "stdout",
       "text": [
        "\r",
        "  |                                                                            \r",
        "  |=================================================================     |  92%"
       ]
      },
      {
       "output_type": "stream",
       "stream": "stdout",
       "text": [
        "\r",
        "  |                                                                            \r",
        "  |=================================================================     |  93%"
       ]
      },
      {
       "output_type": "stream",
       "stream": "stdout",
       "text": [
        "\r",
        "  |                                                                            \r",
        "  |=================================================================     |  94%"
       ]
      },
      {
       "output_type": "stream",
       "stream": "stdout",
       "text": [
        "\r",
        "  |                                                                            \r",
        "  |==================================================================    |  94%"
       ]
      },
      {
       "output_type": "stream",
       "stream": "stdout",
       "text": [
        "\r",
        "  |                                                                            \r",
        "  |==================================================================    |  95%"
       ]
      },
      {
       "output_type": "stream",
       "stream": "stdout",
       "text": [
        "\r",
        "  |                                                                            \r",
        "  |===================================================================   |  95%"
       ]
      },
      {
       "output_type": "stream",
       "stream": "stdout",
       "text": [
        "\r",
        "  |                                                                            \r",
        "  |===================================================================   |  96%"
       ]
      },
      {
       "output_type": "stream",
       "stream": "stdout",
       "text": [
        "\r",
        "  |                                                                            \r",
        "  |====================================================================  |  96%\r",
        "  |                                                                            \r",
        "  |====================================================================  |  97%"
       ]
      },
      {
       "output_type": "stream",
       "stream": "stdout",
       "text": [
        "\r",
        "  |                                                                            \r",
        "  |====================================================================  |  98%"
       ]
      },
      {
       "output_type": "stream",
       "stream": "stdout",
       "text": [
        "\r",
        "  |                                                                            \r",
        "  |===================================================================== |  98%"
       ]
      },
      {
       "output_type": "stream",
       "stream": "stdout",
       "text": [
        "\r",
        "  |                                                                            \r",
        "  |===================================================================== |  99%"
       ]
      },
      {
       "output_type": "stream",
       "stream": "stdout",
       "text": [
        "\r",
        "  |                                                                            \r",
        "  |======================================================================|  99%"
       ]
      },
      {
       "output_type": "stream",
       "stream": "stdout",
       "text": [
        "\r",
        "  |                                                                            \r",
        "  |======================================================================| 100%"
       ]
      },
      {
       "output_type": "stream",
       "stream": "stdout",
       "text": [
        "\r\n"
       ]
      }
     ],
     "prompt_number": 111
    }
   ],
   "metadata": {}
  }
 ]
}