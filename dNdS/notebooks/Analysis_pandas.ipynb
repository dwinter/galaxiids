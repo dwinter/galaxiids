{
 "metadata": {
  "name": ""
 },
 "nbformat": 3,
 "nbformat_minor": 0,
 "worksheets": [
  {
   "cells": [
    {
     "cell_type": "markdown",
     "metadata": {},
     "source": [
      "#Analyses"
     ]
    },
    {
     "cell_type": "code",
     "collapsed": false,
     "input": [
      "import pandas as pd"
     ],
     "language": "python",
     "metadata": {},
     "outputs": [],
     "prompt_number": 2
    },
    {
     "cell_type": "code",
     "collapsed": false,
     "input": [
      "selection_results = pd.read_csv(\"../results/selection.csv\")\n",
      "selection_results"
     ],
     "language": "python",
     "metadata": {},
     "outputs": [
      {
       "metadata": {},
       "output_type": "pyout",
       "prompt_number": 3,
       "text": [
        "<class 'pandas.core.frame.DataFrame'>\n",
        "Int64Index: 986 entries, 0 to 985\n",
        "Data columns:\n",
        "Unnamed: 0    986  non-null values\n",
        "brev_id       986  non-null values\n",
        "length        986  non-null values\n",
        "ka            986  non-null values\n",
        "ks            986  non-null values\n",
        "omega         635  non-null values\n",
        "dtypes: float64(2), int64(2), object(2)"
       ]
      }
     ],
     "prompt_number": 3
    },
    {
     "cell_type": "code",
     "collapsed": false,
     "input": [
      "def abline():\n",
      "    gca = plt.gca()\n",
      "    gca.set_autoscale_on(False)\n",
      "    gca.plot(gca.get_xlim(),gca.get_ylim(), color=\"black\")\n",
      "\n",
      "\n",
      "\n",
      "pyplot.scatter(selection_results[\"ka\"], selection_results[\"ks\"], alpha=1)\n",
      "#xlim(-0.005,0.08)\n",
      "#ylim(-0.005,0.08)\n",
      "abline()"
     ],
     "language": "python",
     "metadata": {},
     "outputs": [
      {
       "output_type": "display_data",
       "png": "[encoded data removed]"
      }
     ],
     "prompt_number": 9
    },
    {
     "cell_type": "markdown",
     "metadata": {},
     "source": [
      "##What is going on with those outliers?\n"
     ]
    },
    {
     "cell_type": "code",
     "collapsed": false,
     "input": [
      "selection_results[selection_results[\"ks\"] > 0.1]"
     ],
     "language": "python",
     "metadata": {},
     "outputs": [
      {
       "html": [
        "<div style=\"max-height:1000px;max-width:1500px;overflow:auto;\">\n",
        "<table border=\"1\" class=\"dataframe\">\n",
        "  <thead>\n",
        "    <tr style=\"text-align: right;\">\n",
        "      <th></th>\n",
        "      <th>Unnamed: 0</th>\n",
        "      <th>brev_id</th>\n",
        "      <th>length</th>\n",
        "      <th>ka</th>\n",
        "      <th>ks</th>\n",
        "      <th>omega</th>\n",
        "    </tr>\n",
        "  </thead>\n",
        "  <tbody>\n",
        "    <tr>\n",
        "      <th>48 </th>\n",
        "      <td>  49</td>\n",
        "      <td> ../alignments/dep00352.fasta.best.fas</td>\n",
        "      <td> 156</td>\n",
        "      <td> 0.000000</td>\n",
        "      <td> 0.185905</td>\n",
        "      <td>                   0</td>\n",
        "    </tr>\n",
        "    <tr>\n",
        "      <th>54 </th>\n",
        "      <td>  55</td>\n",
        "      <td> ../alignments/dep00388.fasta.best.fas</td>\n",
        "      <td> 189</td>\n",
        "      <td> 0.006384</td>\n",
        "      <td> 0.197419</td>\n",
        "      <td>  0.0323379790715794</td>\n",
        "    </tr>\n",
        "    <tr>\n",
        "      <th>85 </th>\n",
        "      <td>  86</td>\n",
        "      <td> ../alignments/dep00673.fasta.best.fas</td>\n",
        "      <td> 204</td>\n",
        "      <td> 0.000000</td>\n",
        "      <td> 0.116119</td>\n",
        "      <td>                   0</td>\n",
        "    </tr>\n",
        "    <tr>\n",
        "      <th>125</th>\n",
        "      <td> 126</td>\n",
        "      <td> ../alignments/dep01075.fasta.best.fas</td>\n",
        "      <td> 450</td>\n",
        "      <td> 0.004991</td>\n",
        "      <td> 1.223103</td>\n",
        "      <td> 0.00408028403738162</td>\n",
        "    </tr>\n",
        "    <tr>\n",
        "      <th>295</th>\n",
        "      <td> 296</td>\n",
        "      <td> ../alignments/dep02853.fasta.best.fas</td>\n",
        "      <td> 465</td>\n",
        "      <td> 0.092654</td>\n",
        "      <td> 0.274025</td>\n",
        "      <td>   0.338123137843426</td>\n",
        "    </tr>\n",
        "    <tr>\n",
        "      <th>336</th>\n",
        "      <td> 337</td>\n",
        "      <td> ../alignments/dep03267.fasta.best.fas</td>\n",
        "      <td> 219</td>\n",
        "      <td> 0.075752</td>\n",
        "      <td> 0.385071</td>\n",
        "      <td>   0.196722465150373</td>\n",
        "    </tr>\n",
        "    <tr>\n",
        "      <th>719</th>\n",
        "      <td> 720</td>\n",
        "      <td> ../alignments/dep08529.fasta.best.fas</td>\n",
        "      <td> 153</td>\n",
        "      <td> 0.011561</td>\n",
        "      <td> 0.150140</td>\n",
        "      <td>  0.0770030727542102</td>\n",
        "    </tr>\n",
        "  </tbody>\n",
        "</table>\n",
        "</div>"
       ],
       "output_type": "pyout",
       "prompt_number": 13,
       "text": [
        "     Unnamed: 0                                brev_id  length        ka        ks  \\\n",
        "48           49  ../alignments/dep00352.fasta.best.fas     156  0.000000  0.185905   \n",
        "54           55  ../alignments/dep00388.fasta.best.fas     189  0.006384  0.197419   \n",
        "85           86  ../alignments/dep00673.fasta.best.fas     204  0.000000  0.116119   \n",
        "125         126  ../alignments/dep01075.fasta.best.fas     450  0.004991  1.223103   \n",
        "295         296  ../alignments/dep02853.fasta.best.fas     465  0.092654  0.274025   \n",
        "336         337  ../alignments/dep03267.fasta.best.fas     219  0.075752  0.385071   \n",
        "719         720  ../alignments/dep08529.fasta.best.fas     153  0.011561  0.150140   \n",
        "\n",
        "                   omega  \n",
        "48                     0  \n",
        "54    0.0323379790715794  \n",
        "85                     0  \n",
        "125  0.00408028403738162  \n",
        "295    0.338123137843426  \n",
        "336    0.196722465150373  \n",
        "719   0.0770030727542102  "
       ]
      }
     ],
     "prompt_number": 13
    },
    {
     "cell_type": "markdown",
     "metadata": {},
     "source": [
      "start byt working out what's going on with that sequence with `ks ~ 1.2`. To the database..."
     ]
    },
    {
     "cell_type": "code",
     "collapsed": false,
     "input": [
      "from BioSQL import BioSeqDatabase\n",
      "server = BioSeqDatabase.open_database(driver=\"sqlite\", user=\"david\", db=\"../../db/galaxiids.sqlite\")\n",
      "db_dep = server[\"dep_sp\"]\n"
     ],
     "language": "python",
     "metadata": {},
     "outputs": [],
     "prompt_number": 114
    },
    {
     "cell_type": "code",
     "collapsed": false,
     "input": [
      "rec = db_dep.get_Seq_by_id(\"contig01075\") # from table\n",
      "homolog = rec.annotations[\"swissprot\"]\n",
      "print \" http://www.uniprot.org/uniprot/\" + homolog[0]"
     ],
     "language": "python",
     "metadata": {},
     "outputs": [
      {
       "output_type": "stream",
       "stream": "stdout",
       "text": [
        " http://www.uniprot.org/uniprot/Q6PH57\n"
       ]
      }
     ],
     "prompt_number": 27
    },
    {
     "cell_type": "markdown",
     "metadata": {},
     "source": [
      "That's `Guanine nucleotide-binding protein G(I)/G(S)/G(T) subunit beta-1`... good to know I guess"
     ]
    },
    {
     "cell_type": "code",
     "collapsed": false,
     "input": [
      "from Bio.Blast import NCBIWWW\n",
      "\n",
      "brec = NCBIWWW.qblast(\"blastx\", database=\"nr\", sequence=rec.format(\"fasta\") )\n"
     ],
     "language": "python",
     "metadata": {},
     "outputs": [],
     "prompt_number": "*"
    },
    {
     "cell_type": "markdown",
     "metadata": {},
     "source": [
      "$$\\sum_{i=0}^{l} P(d=0| Poisson(l_i . p))$$"
     ]
    },
    {
     "cell_type": "markdown",
     "metadata": {},
     "source": [
      "##omega > 1...\n"
     ]
    },
    {
     "cell_type": "code",
     "collapsed": false,
     "input": [
      "selection_results[(selection_results[\"ka\"] > 0) & (selection_results[\"omega\"] > 1)]\n"
     ],
     "language": "python",
     "metadata": {},
     "outputs": [
      {
       "metadata": {},
       "output_type": "pyout",
       "prompt_number": 45,
       "text": [
        "<class 'pandas.core.frame.DataFrame'>\n",
        "Int64Index: 332 entries, 4 to 984\n",
        "Data columns:\n",
        "Unnamed: 0    332  non-null values\n",
        "brev_id       332  non-null values\n",
        "length        332  non-null values\n",
        "ka            332  non-null values\n",
        "ks            332  non-null values\n",
        "omega         332  non-null values\n",
        "dtypes: float64(2), int64(2), object(2)"
       ]
      }
     ],
     "prompt_number": 45
    },
    {
     "cell_type": "code",
     "collapsed": false,
     "input": [
      "selection_results[\"omega\"] = selection_results[\"omega\"].astype(float64)\n",
      "index = (selection_results[\"ka\"] > 0) & (selection_results[\"ks\"] > 0) & (selection_results[\"omega\"] > 1) \n",
      "selection_results[index]"
     ],
     "language": "python",
     "metadata": {},
     "outputs": [
      {
       "html": [
        "<div style=\"max-height:1000px;max-width:1500px;overflow:auto;\">\n",
        "<table border=\"1\" class=\"dataframe\">\n",
        "  <thead>\n",
        "    <tr style=\"text-align: right;\">\n",
        "      <th></th>\n",
        "      <th>Unnamed: 0</th>\n",
        "      <th>brev_id</th>\n",
        "      <th>length</th>\n",
        "      <th>ka</th>\n",
        "      <th>ks</th>\n",
        "      <th>omega</th>\n",
        "    </tr>\n",
        "  </thead>\n",
        "  <tbody>\n",
        "    <tr>\n",
        "      <th>67 </th>\n",
        "      <td>  68</td>\n",
        "      <td> ../alignments/dep00518.fasta.best.fas</td>\n",
        "      <td> 594</td>\n",
        "      <td> 0.013999</td>\n",
        "      <td> 0.011646</td>\n",
        "      <td> 1.202016</td>\n",
        "    </tr>\n",
        "    <tr>\n",
        "      <th>76 </th>\n",
        "      <td>  77</td>\n",
        "      <td> ../alignments/dep00588.fasta.best.fas</td>\n",
        "      <td> 516</td>\n",
        "      <td> 0.005970</td>\n",
        "      <td> 0.005855</td>\n",
        "      <td> 1.019634</td>\n",
        "    </tr>\n",
        "    <tr>\n",
        "      <th>98 </th>\n",
        "      <td>  99</td>\n",
        "      <td> ../alignments/dep00812.fasta.best.fas</td>\n",
        "      <td> 246</td>\n",
        "      <td> 0.012740</td>\n",
        "      <td> 0.011902</td>\n",
        "      <td> 1.070330</td>\n",
        "    </tr>\n",
        "    <tr>\n",
        "      <th>116</th>\n",
        "      <td> 117</td>\n",
        "      <td> ../alignments/dep00985.fasta.best.fas</td>\n",
        "      <td> 348</td>\n",
        "      <td> 0.010671</td>\n",
        "      <td> 0.007929</td>\n",
        "      <td> 1.345694</td>\n",
        "    </tr>\n",
        "    <tr>\n",
        "      <th>203</th>\n",
        "      <td> 204</td>\n",
        "      <td> ../alignments/dep01778.fasta.best.fas</td>\n",
        "      <td> 546</td>\n",
        "      <td> 0.008165</td>\n",
        "      <td> 0.005068</td>\n",
        "      <td> 1.611105</td>\n",
        "    </tr>\n",
        "    <tr>\n",
        "      <th>296</th>\n",
        "      <td> 297</td>\n",
        "      <td> ../alignments/dep02858.fasta.best.fas</td>\n",
        "      <td> 237</td>\n",
        "      <td> 0.018218</td>\n",
        "      <td> 0.012529</td>\n",
        "      <td> 1.454077</td>\n",
        "    </tr>\n",
        "    <tr>\n",
        "      <th>298</th>\n",
        "      <td> 299</td>\n",
        "      <td> ../alignments/dep02875.fasta.best.fas</td>\n",
        "      <td> 234</td>\n",
        "      <td> 0.013424</td>\n",
        "      <td> 0.012301</td>\n",
        "      <td> 1.091265</td>\n",
        "    </tr>\n",
        "    <tr>\n",
        "      <th>301</th>\n",
        "      <td> 302</td>\n",
        "      <td> ../alignments/dep02898.fasta.best.fas</td>\n",
        "      <td> 333</td>\n",
        "      <td> 0.017587</td>\n",
        "      <td> 0.015959</td>\n",
        "      <td> 1.101979</td>\n",
        "    </tr>\n",
        "    <tr>\n",
        "      <th>477</th>\n",
        "      <td> 478</td>\n",
        "      <td> ../alignments/dep05060.fasta.best.fas</td>\n",
        "      <td> 177</td>\n",
        "      <td> 0.024756</td>\n",
        "      <td> 0.016476</td>\n",
        "      <td> 1.502566</td>\n",
        "    </tr>\n",
        "    <tr>\n",
        "      <th>799</th>\n",
        "      <td> 800</td>\n",
        "      <td> ../alignments/dep09705.fasta.best.fas</td>\n",
        "      <td> 192</td>\n",
        "      <td> 0.016668</td>\n",
        "      <td> 0.016014</td>\n",
        "      <td> 1.040849</td>\n",
        "    </tr>\n",
        "    <tr>\n",
        "      <th>849</th>\n",
        "      <td> 850</td>\n",
        "      <td> ../alignments/dep10298.fasta.best.fas</td>\n",
        "      <td> 420</td>\n",
        "      <td> 0.009657</td>\n",
        "      <td> 0.006232</td>\n",
        "      <td> 1.549679</td>\n",
        "    </tr>\n",
        "    <tr>\n",
        "      <th>937</th>\n",
        "      <td> 938</td>\n",
        "      <td> ../alignments/dep11541.fasta.best.fas</td>\n",
        "      <td> 570</td>\n",
        "      <td> 0.007618</td>\n",
        "      <td> 0.004955</td>\n",
        "      <td> 1.537327</td>\n",
        "    </tr>\n",
        "  </tbody>\n",
        "</table>\n",
        "</div>"
       ],
       "metadata": {},
       "output_type": "pyout",
       "prompt_number": 92,
       "text": [
        "     Unnamed: 0                                brev_id  length        ka        ks  \\\n",
        "67           68  ../alignments/dep00518.fasta.best.fas     594  0.013999  0.011646   \n",
        "76           77  ../alignments/dep00588.fasta.best.fas     516  0.005970  0.005855   \n",
        "98           99  ../alignments/dep00812.fasta.best.fas     246  0.012740  0.011902   \n",
        "116         117  ../alignments/dep00985.fasta.best.fas     348  0.010671  0.007929   \n",
        "203         204  ../alignments/dep01778.fasta.best.fas     546  0.008165  0.005068   \n",
        "296         297  ../alignments/dep02858.fasta.best.fas     237  0.018218  0.012529   \n",
        "298         299  ../alignments/dep02875.fasta.best.fas     234  0.013424  0.012301   \n",
        "301         302  ../alignments/dep02898.fasta.best.fas     333  0.017587  0.015959   \n",
        "477         478  ../alignments/dep05060.fasta.best.fas     177  0.024756  0.016476   \n",
        "799         800  ../alignments/dep09705.fasta.best.fas     192  0.016668  0.016014   \n",
        "849         850  ../alignments/dep10298.fasta.best.fas     420  0.009657  0.006232   \n",
        "937         938  ../alignments/dep11541.fasta.best.fas     570  0.007618  0.004955   \n",
        "\n",
        "        omega  \n",
        "67   1.202016  \n",
        "76   1.019634  \n",
        "98   1.070330  \n",
        "116  1.345694  \n",
        "203  1.611105  \n",
        "296  1.454077  \n",
        "298  1.091265  \n",
        "301  1.101979  \n",
        "477  1.502566  \n",
        "799  1.040849  \n",
        "849  1.549679  \n",
        "937  1.537327  "
       ]
      }
     ],
     "prompt_number": 92
    },
    {
     "cell_type": "code",
     "collapsed": false,
     "input": [
      "def get_swissprot(contig):\n",
      "    rec=db_dep.get_Seq_by_id(contig) \n",
      "    return  rec.annotations[\"swissprot\"][0]\n",
      "    #return \" http://www.uniprot.org/uniprot/\" + homolog[0], homolog[0]"
     ],
     "language": "python",
     "metadata": {},
     "outputs": [],
     "prompt_number": 135
    },
    {
     "cell_type": "code",
     "collapsed": false,
     "input": [
      "ids = selection_results[index][\"brev_id\"]\n",
      "[get_swissprot( i.split(\"/\")[-1].split(\".\")[0].replace(\"dep\",\"contig\")) for i in ids]\n",
      "#[i.split(\"/\")[-1].split(\".\")[0].replace(\"dep\",\"contig\") for i in ids]\n"
     ],
     "language": "python",
     "metadata": {},
     "outputs": [
      {
       "metadata": {},
       "output_type": "pyout",
       "prompt_number": 136,
       "text": [
        "['Q7ZUC7',\n",
        " 'Q9H920',\n",
        " 'Q9WV52',\n",
        " 'NA',\n",
        " 'P19204',\n",
        " 'P97546',\n",
        " 'Q9R0Q9',\n",
        " 'Q566X6',\n",
        " 'P28173',\n",
        " 'Q7T370',\n",
        " 'Q0P424',\n",
        " 'Q4R4E0']"
       ]
      }
     ],
     "prompt_number": 136
    },
    {
     "cell_type": "code",
     "collapsed": false,
     "input": [
      "db_dep.get_Seq_by_id( \"contig05060\" ).annotations"
     ],
     "language": "python",
     "metadata": {},
     "outputs": [
      {
       "metadata": {},
       "output_type": "pyout",
       "prompt_number": 131,
       "text": [
        "{'date': ['06-AUG-2013'], 'gi': 'contig05060', 'swissprot': ['P28173']}"
       ]
      }
     ],
     "prompt_number": 131
    },
    {
     "cell_type": "code",
     "collapsed": false,
     "input": [
      "from scipy.stats import poisson\n",
      "\n",
      "def find_poisson(length, p=0.005):\n",
      "    return poisson.pmf(0, length*p)\n",
      "\n",
      "print sum(selection_results[\"length\"].apply(find_poisson))\n",
      "print sum(selection_results[ [\"ka\",\"ks\"] ].apply(sum, 1) == 0)\n"
     ],
     "language": "python",
     "metadata": {},
     "outputs": [
      {
       "output_type": "stream",
       "stream": "stdout",
       "text": [
        "289.976866828\n",
        "351"
       ]
      },
      {
       "output_type": "stream",
       "stream": "stdout",
       "text": [
        "\n"
       ]
      }
     ],
     "prompt_number": 48
    },
    {
     "cell_type": "code",
     "collapsed": false,
     "input": [],
     "language": "python",
     "metadata": {},
     "outputs": [
      {
       "output_type": "pyout",
       "prompt_number": 10,
       "text": [
        "(0, 1)"
       ]
      },
      {
       "output_type": "display_data",
       "png": "[encoded data removed]"
      }
     ],
     "prompt_number": 10
    }
   ],
   "metadata": {}
  }
 ]
}